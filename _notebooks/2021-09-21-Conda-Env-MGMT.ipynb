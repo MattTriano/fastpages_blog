{
 "cells": [
  {
   "cell_type": "markdown",
   "id": "1f6fecde-e8a7-4cd0-9629-8643f99d0e1b",
   "metadata": {},
   "source": [
    "# Setting up Conda and Making a Conda Env\n",
    "> Matt's notes for issue-free conda env management. These instructions were developed mainly on Linux machines (and on Windows machines in the receding past) so the default locations for things may be somewhere else on your machine, but the default Anaconda or Miniconda installs will be in your home directory (`~`).\n",
    "\n",
    "- toc: true \n",
    "- badges: true\n",
    "- comments: false\n",
    "- categories: [jupyter, conda]\n",
    "- image: images/chart-preview.png"
   ]
  },
  {
   "cell_type": "markdown",
   "id": "6de6d272-c5ae-4479-a370-5baf3284787c",
   "metadata": {},
   "source": [
    "# What is `conda`? Why learn this when I already know `pip`?\n",
    "\n",
    "Like `pip`, `conda` is a package manager, but unlike `pip`, `conda` can \n",
    "* install different versions of python,\n",
    "* manage projects containing code written in any language,\n",
    "* checks that new packages don't have dependency conflicts with existing packages or package versions (although I've read that `pip` started doing this too in its version 20.3).\n",
    "\n",
    "[Anaconda](https://anaconda.org/anaconda/repo) offers a service like [PyPI](https://pypi.org/) or [CRAN](https://cran.r-project.org/) that serves user-created packaged code, but unlike PyPI or CRAN, there are many other such repos for `conda` packages, and these are referred to as **channels**. Some major `conda channels` are:\n",
    "* [**Conda-Forge**](https://conda-forge.org/) (most popular public channel)\n",
    "* [**Bioconda**](https://bioconda.github.io/index.html) (mainly used for biostatistical packages)\n",
    "* [**R**](https://anaconda.org/r/repo) (unsurprisingly, for **R** packages)\n",
    "\n",
    "Or you could build your own [private conda channel](https://conda.io/projects/conda/en/latest/user-guide/tasks/create-custom-channels.html).\n",
    "\n",
    "A feature of this channel system is that it increases the likelihood that someone has built the most recent version of the package you want, but a drawback is that can slow down the dependency resolver as it has more places it can check for the requested package. The `conda` configuration recommended by **Conda-forge** is to set `channel_priority` to **strict** and add the **conda-forge** channel. These settings will be stored in the `.condarc` file in your home directory, which you can view either by"
   ]
  },
  {
   "cell_type": "code",
   "execution_count": 1,
   "id": "583b5e22-6b09-4c58-a864-422a6b87f5d6",
   "metadata": {},
   "outputs": [
    {
     "name": "stdout",
     "output_type": "stream",
     "text": [
      "==> /home/matt/.condarc <==\n",
      "channel_priority: strict\n",
      "channels:\n",
      "  - conda-forge\n",
      "  - defaults\n",
      "\n"
     ]
    }
   ],
   "source": [
    "!conda config --show-sources"
   ]
  },
  {
   "cell_type": "markdown",
   "id": "aa8c870d-f978-4e7d-9b55-d9640f8877a3",
   "metadata": {},
   "source": [
    "or by simply inspecting the file via"
   ]
  },
  {
   "cell_type": "code",
   "execution_count": 2,
   "id": "9d5e376c-f0b9-4e31-87a7-f02f0ed0d45a",
   "metadata": {},
   "outputs": [
    {
     "name": "stdout",
     "output_type": "stream",
     "text": [
      "channels:\n",
      "  - conda-forge\n",
      "  - defaults\n",
      "channel_priority: strict\n"
     ]
    }
   ],
   "source": [
    "!cat /home/matt/.condarc"
   ]
  },
  {
   "cell_type": "markdown",
   "id": "77d42770-fcb7-4bc3-94c3-6287b011fd8f",
   "metadata": {},
   "source": [
    "This config is very easy to recreate, and pedagogically, I think it's just better to show the process, so I'll `rm` (remove, aka delete) my conda config and remake it."
   ]
  },
  {
   "cell_type": "code",
   "execution_count": 3,
   "id": "7290569f-0aec-4362-ab5a-cd42fb0aa2b2",
   "metadata": {},
   "outputs": [],
   "source": [
    "!rm /home/matt/.condarc"
   ]
  },
  {
   "cell_type": "code",
   "execution_count": 4,
   "id": "14d1fc8e-c2e3-4a6a-a4c6-8f9765ff4641",
   "metadata": {},
   "outputs": [
    {
     "name": "stdout",
     "output_type": "stream",
     "text": [
      "cat: /home/matt/.condarc: No such file or directory\n"
     ]
    }
   ],
   "source": [
    "!cat /home/matt/.condarc"
   ]
  },
  {
   "cell_type": "markdown",
   "id": "fdaca709-deed-4214-9e9d-66706446fe78",
   "metadata": {},
   "source": [
    "Ok, now that I've deleted my `.condarc` file, I'll recreate it."
   ]
  },
  {
   "cell_type": "code",
   "execution_count": 5,
   "id": "2f72a46b-d3bf-440a-aa39-682267aaa790",
   "metadata": {},
   "outputs": [],
   "source": [
    "!conda config --add channels conda-forge\n",
    "!conda config --set channel_priority strict "
   ]
  },
  {
   "cell_type": "code",
   "execution_count": 6,
   "id": "34d753f3-1c18-4906-98c0-7243d96b6dde",
   "metadata": {},
   "outputs": [
    {
     "name": "stdout",
     "output_type": "stream",
     "text": [
      "channels:\n",
      "  - conda-forge\n",
      "  - defaults\n",
      "channel_priority: strict\n"
     ]
    }
   ],
   "source": [
    "!cat /home/matt/.condarc"
   ]
  },
  {
   "cell_type": "markdown",
   "id": "743b844e-2caf-40c2-925c-dc7b575e33b2",
   "metadata": {},
   "source": [
    "### What does this do?\n",
    "\n",
    "Setting `channel_priority` to strict tells `conda` to only look for packages in the highest-priority channel, which will be the channel at the top of the list."
   ]
  },
  {
   "cell_type": "markdown",
   "id": "fd098a55-cd44-47b1-ad97-561ffa363915",
   "metadata": {},
   "source": [
    "## Creating a `conda env`\n",
    "\n",
    "Now that we've configured `conda` to only pull packages from a specified channel (**conda-forge** in this notebook and my own typical usage), we can create a `conda env` and be confident that installed packages or code will be sourced from the intended channel. [Here](https://conda.io/projects/conda/en/latest/user-guide/tasks/manage-environments.html) is the official `conda env` management documentation, but to simply create a new `env`, the instructions below are sufficient.\n",
    "\n",
    "1. First, you have to create the `env`, and I've set the python version to version 3.9.X (if you want an exact version, either include the full version number, or use 2 equals signs)"
   ]
  },
  {
   "cell_type": "code",
   "execution_count": 7,
   "id": "29132624-1215-4b97-953f-7bc2950fd7e1",
   "metadata": {},
   "outputs": [
    {
     "name": "stdout",
     "output_type": "stream",
     "text": [
      "Collecting package metadata (current_repodata.json): done\n",
      "Solving environment: done\n",
      "\n",
      "## Package Plan ##\n",
      "\n",
      "  environment location: /home/matt/miniconda3/envs/geocoder_env\n",
      "\n",
      "  added / updated specs:\n",
      "    - python=3.9\n",
      "\n",
      "\n",
      "The following packages will be downloaded:\n",
      "\n",
      "    package                    |            build\n",
      "    ---------------------------|-----------------\n",
      "    libffi-3.4.2               |       h9c3ff4c_2          60 KB  conda-forge\n",
      "    libgcc-ng-11.2.0           |       h1d223b6_8         892 KB  conda-forge\n",
      "    libgomp-11.2.0             |       h1d223b6_8         428 KB  conda-forge\n",
      "    libstdcxx-ng-11.2.0        |       he4da1e4_8         4.2 MB  conda-forge\n",
      "    python-3.9.7               |hb7a2778_1_cpython        27.5 MB  conda-forge\n",
      "    setuptools-58.0.4          |   py39hf3d152e_1         958 KB  conda-forge\n",
      "    ------------------------------------------------------------\n",
      "                                           Total:        34.0 MB\n",
      "\n",
      "The following NEW packages will be INSTALLED:\n",
      "\n",
      "  _libgcc_mutex      conda-forge/linux-64::_libgcc_mutex-0.1-conda_forge\n",
      "  _openmp_mutex      conda-forge/linux-64::_openmp_mutex-4.5-1_gnu\n",
      "  ca-certificates    conda-forge/linux-64::ca-certificates-2021.5.30-ha878542_0\n",
      "  ld_impl_linux-64   conda-forge/linux-64::ld_impl_linux-64-2.36.1-hea4e1c9_2\n",
      "  libffi             conda-forge/linux-64::libffi-3.4.2-h9c3ff4c_2\n",
      "  libgcc-ng          conda-forge/linux-64::libgcc-ng-11.2.0-h1d223b6_8\n",
      "  libgomp            conda-forge/linux-64::libgomp-11.2.0-h1d223b6_8\n",
      "  libstdcxx-ng       conda-forge/linux-64::libstdcxx-ng-11.2.0-he4da1e4_8\n",
      "  ncurses            conda-forge/linux-64::ncurses-6.2-h58526e2_4\n",
      "  openssl            conda-forge/linux-64::openssl-1.1.1l-h7f98852_0\n",
      "  pip                conda-forge/noarch::pip-21.2.4-pyhd8ed1ab_0\n",
      "  python             conda-forge/linux-64::python-3.9.7-hb7a2778_1_cpython\n",
      "  python_abi         conda-forge/linux-64::python_abi-3.9-2_cp39\n",
      "  readline           conda-forge/linux-64::readline-8.1-h46c0cb4_0\n",
      "  setuptools         conda-forge/linux-64::setuptools-58.0.4-py39hf3d152e_1\n",
      "  sqlite             conda-forge/linux-64::sqlite-3.36.0-h9cd32fc_1\n",
      "  tk                 conda-forge/linux-64::tk-8.6.11-h27826a3_1\n",
      "  tzdata             conda-forge/noarch::tzdata-2021a-he74cb21_1\n",
      "  wheel              conda-forge/noarch::wheel-0.37.0-pyhd8ed1ab_1\n",
      "  xz                 conda-forge/linux-64::xz-5.2.5-h516909a_1\n",
      "  zlib               conda-forge/linux-64::zlib-1.2.11-h516909a_1010\n",
      "\n",
      "\n",
      "\n",
      "Downloading and Extracting Packages\n",
      "libgcc-ng-11.2.0     | 892 KB    | ##################################### | 100% \n",
      "libgomp-11.2.0       | 428 KB    | ##################################### | 100% \n",
      "setuptools-58.0.4    | 958 KB    | ##################################### | 100% \n",
      "libffi-3.4.2         | 60 KB     | ##################################### | 100% \n",
      "libstdcxx-ng-11.2.0  | 4.2 MB    | ##################################### | 100% \n",
      "python-3.9.7         | 27.5 MB   | ##################################### | 100% \n",
      "Preparing transaction: done\n",
      "Verifying transaction: done\n",
      "Executing transaction: done\n",
      "#\n",
      "# To activate this environment, use\n",
      "#\n",
      "#     $ conda activate geocoder_env\n",
      "#\n",
      "# To deactivate an active environment, use\n",
      "#\n",
      "#     $ conda deactivate\n",
      "\n"
     ]
    }
   ],
   "source": [
    "!conda create --name geocoder_env python=3.9 -y"
   ]
  },
  {
   "cell_type": "markdown",
   "id": "d0d5c5c4-4301-493d-958c-94ddc44f7fcb",
   "metadata": {},
   "source": [
    "From the printout above, you can see that 6 packages (or more specifically, 6 builds of packages) would be downloaded, and 21 packages would be installed. The reason 21 packages weren't downloaded is that conda keeps all of the downloaded package builds in a single directory (`/home/matt/miniconda3/pkgs` on my machine) so that a user can have multiple `conda envs` using common package versions without having to download and store multiple copies of the same exact package build. Then `conda` will install the identified package versions into the `env` from that directory.\n",
    "\n",
    "From the list of packages to install, you can also see that most of the package builds include the string `linux-64` but some have the string `noarch` instead. \n",
    "* The `linux-64` builds are built for 64-bit Linux operating systems.\n",
    "* The `noarch` builds are implemented with pure python and are built for **no** specific **arch**itecture, meaning the same package build can install on any OS."
   ]
  },
  {
   "cell_type": "markdown",
   "id": "3e3b191c-5dd9-4596-8feb-ccdc0fff2acd",
   "metadata": {},
   "source": [
    "Going forward, I'm going to execute commands in a terminal and copy in the results into markdown, as it's a much more natural workflow than simply executing shell commands through jupyter notebook cells."
   ]
  },
  {
   "cell_type": "markdown",
   "id": "fe7c26b8-697d-4415-8333-f8744a0c5aa8",
   "metadata": {},
   "source": [
    "```bash\n",
    "(base) matt@matt:~$ conda activate geocoder_env\n",
    "(geocoder_env) matt@matt:~$ conda install -c conda-forge psycopg2\n",
    "...\n",
    "```\n",
    "Enter `y` when prompted. You'll have to perform the same confirmation for each package you install, but I'm omitting it going forward for brevity. Also (obviously) you can install other packages. I'm just making this `conda env` for a geocoder I'm building that will use a PostGIS database and I'll interactively developing it using **geopandas** (and its dependancies) in **jupyterlab**.\n",
    "\n",
    "```bash\n",
    "(geocoder_env) matt@matt:~$ conda install -c conda-forge geopandas\n",
    "(geocoder_env) matt@matt:~$ conda install -c conda-forge jupyterlab \n",
    "```\n",
    "\n",
    "And to make your new `conda env` accessible (as a kernel) in **jupyterlab** (or in **jupyter notebooks**), register your `conda env` with `ipykernel` (the engine of **jupyter**) via the command below (credit to this [stack overflow answer](https://stackoverflow.com/questions/39604271/conda-environments-not-showing-up-in-jupyter-notebook) that I've visited easily 30 times).\n",
    "\n",
    "```bash\n",
    "(geocoder_env) matt@matt:~$ python -m ipykernel install --user --name \\\n",
    "    geocoder_env --display-name \"Python (geocoder_env)\"\n",
    "```"
   ]
  },
  {
   "cell_type": "code",
   "execution_count": null,
   "id": "90ad9af2-57f2-480a-ae14-f6d7c1a33032",
   "metadata": {},
   "outputs": [],
   "source": []
  },
  {
   "cell_type": "code",
   "execution_count": null,
   "id": "c2d415f9-3621-42ff-9b21-48f5968a1832",
   "metadata": {},
   "outputs": [],
   "source": []
  },
  {
   "cell_type": "code",
   "execution_count": null,
   "id": "44198f3f-72b7-4186-a790-bfa9576a2518",
   "metadata": {},
   "outputs": [],
   "source": []
  },
  {
   "cell_type": "code",
   "execution_count": null,
   "id": "218492e3-afe3-4ca5-b935-d947261a419a",
   "metadata": {},
   "outputs": [],
   "source": []
  },
  {
   "cell_type": "code",
   "execution_count": null,
   "id": "8cb9ffab-dde0-4bed-bc9c-fb526c59793b",
   "metadata": {},
   "outputs": [],
   "source": []
  },
  {
   "cell_type": "code",
   "execution_count": null,
   "id": "f4f1b8c8-c226-4470-9956-e8ec44fadfab",
   "metadata": {},
   "outputs": [],
   "source": []
  },
  {
   "cell_type": "code",
   "execution_count": null,
   "id": "edad72f9-7a28-48ad-823d-b95a32ce1ee2",
   "metadata": {},
   "outputs": [],
   "source": []
  },
  {
   "cell_type": "code",
   "execution_count": null,
   "id": "11f0f5e3-8473-4e7b-b8f1-0bcde386dc88",
   "metadata": {},
   "outputs": [],
   "source": []
  }
 ],
 "metadata": {
  "kernelspec": {
   "display_name": "Python (geo_env)",
   "language": "python",
   "name": "geo_env"
  },
  "language_info": {
   "codemirror_mode": {
    "name": "ipython",
    "version": 3
   },
   "file_extension": ".py",
   "mimetype": "text/x-python",
   "name": "python",
   "nbconvert_exporter": "python",
   "pygments_lexer": "ipython3",
   "version": "3.9.6"
  }
 },
 "nbformat": 4,
 "nbformat_minor": 5
}
